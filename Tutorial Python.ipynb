{
 "cells": [
  {
   "cell_type": "code",
   "execution_count": 1,
   "metadata": {},
   "outputs": [],
   "source": [
    "import numpy as np"
   ]
  },
  {
   "cell_type": "markdown",
   "metadata": {},
   "source": [
    "# PARTE I - OPERAÇÕES BÁSICAS COM NÚMEROS COMPLEXOS"
   ]
  },
  {
   "cell_type": "code",
   "execution_count": 2,
   "metadata": {},
   "outputs": [
    {
     "data": {
      "text/plain": [
       "(-2-6j)"
      ]
     },
     "execution_count": 2,
     "metadata": {},
     "output_type": "execute_result"
    }
   ],
   "source": [
    "# Definindo uma constante complexa\n",
    "\n",
    "# Obs: O Python não reconhece um j sozinho como unidade imaginária.\n",
    "# Use sempre com algum número acompanhando, como 1j, 2j, etc.\n",
    "\n",
    "#z = np.complex(-2, -6)\n",
    "z = -2-6j\n",
    "z"
   ]
  },
  {
   "cell_type": "code",
   "execution_count": 3,
   "metadata": {},
   "outputs": [
    {
     "data": {
      "text/plain": [
       "-2.0"
      ]
     },
     "execution_count": 3,
     "metadata": {},
     "output_type": "execute_result"
    }
   ],
   "source": [
    "# Somente a parte real\n",
    "np.real(z)"
   ]
  },
  {
   "cell_type": "code",
   "execution_count": 4,
   "metadata": {},
   "outputs": [
    {
     "data": {
      "text/plain": [
       "-6.0"
      ]
     },
     "execution_count": 4,
     "metadata": {},
     "output_type": "execute_result"
    }
   ],
   "source": [
    "# Somente a parte imaginaria\n",
    "np.imag(z)"
   ]
  },
  {
   "cell_type": "code",
   "execution_count": 5,
   "metadata": {},
   "outputs": [],
   "source": [
    "# Salvando a parte real e imaginaria da constante complexa em variaveis auxiliares\n",
    "\n",
    "realz = np.real(z);\n",
    "imagz = np.imag(z);\n"
   ]
  },
  {
   "cell_type": "code",
   "execution_count": 6,
   "metadata": {},
   "outputs": [
    {
     "data": {
      "text/plain": [
       "6.324555320336759"
      ]
     },
     "execution_count": 6,
     "metadata": {},
     "output_type": "execute_result"
    }
   ],
   "source": [
    "# Calculo do módulo\n",
    "\n",
    "# Primeira forma\n",
    "np.sqrt(realz**2+imagz**2)"
   ]
  },
  {
   "cell_type": "code",
   "execution_count": 7,
   "metadata": {},
   "outputs": [
    {
     "data": {
      "text/plain": [
       "(6.324555320336759+0j)"
      ]
     },
     "execution_count": 7,
     "metadata": {},
     "output_type": "execute_result"
    }
   ],
   "source": [
    "# Segunda forma\n",
    "conj_z = z.conjugate()\n",
    "np.sqrt(z*conj_z)"
   ]
  },
  {
   "cell_type": "code",
   "execution_count": 8,
   "metadata": {},
   "outputs": [
    {
     "data": {
      "text/plain": [
       "6.324555320336759"
      ]
     },
     "execution_count": 8,
     "metadata": {},
     "output_type": "execute_result"
    }
   ],
   "source": [
    "# Terceira forma\n",
    "np.abs(z)"
   ]
  },
  {
   "cell_type": "code",
   "execution_count": 9,
   "metadata": {},
   "outputs": [
    {
     "data": {
      "text/plain": [
       "-1.892546881191539"
      ]
     },
     "execution_count": 9,
     "metadata": {},
     "output_type": "execute_result"
    }
   ],
   "source": [
    "# Obtendo a fase\n",
    "\n",
    "# Primeira forma\n",
    "\n",
    "np.angle(z)"
   ]
  },
  {
   "cell_type": "code",
   "execution_count": 10,
   "metadata": {},
   "outputs": [
    {
     "data": {
      "text/plain": [
       "-1.892546881191539"
      ]
     },
     "execution_count": 10,
     "metadata": {},
     "output_type": "execute_result"
    }
   ],
   "source": [
    "#Segunda forma\n",
    "\n",
    "np.arctan2(imagz, realz)"
   ]
  },
  {
   "cell_type": "code",
   "execution_count": 11,
   "metadata": {},
   "outputs": [
    {
     "data": {
      "text/plain": [
       "-108.43494882292202"
      ]
     },
     "execution_count": 11,
     "metadata": {},
     "output_type": "execute_result"
    }
   ],
   "source": [
    "#Para converter de radianos para graus\n",
    "\n",
    "np.angle(z)*180/np.pi"
   ]
  },
  {
   "cell_type": "code",
   "execution_count": 12,
   "metadata": {},
   "outputs": [
    {
     "data": {
      "text/plain": [
       "-108.43494882292202"
      ]
     },
     "execution_count": 12,
     "metadata": {},
     "output_type": "execute_result"
    }
   ],
   "source": [
    "np.rad2deg(np.angle(z))"
   ]
  },
  {
   "cell_type": "markdown",
   "metadata": {},
   "source": [
    "# PARTE II - OPERAÇÕES BÁSICAS COM VETORES"
   ]
  },
  {
   "cell_type": "code",
   "execution_count": 13,
   "metadata": {},
   "outputs": [
    {
     "data": {
      "text/plain": [
       "array([ 0,  5, 10, 15, 20])"
      ]
     },
     "execution_count": 13,
     "metadata": {},
     "output_type": "execute_result"
    }
   ],
   "source": [
    "# Declarando vetor linha com elementos reais igualmente espaçados\n",
    "\n",
    "a = np.arange(0,21,5) # Os argumentos são início, fim (não incluso) e o passo\n",
    "\n",
    "a"
   ]
  },
  {
   "cell_type": "code",
   "execution_count": 14,
   "metadata": {},
   "outputs": [
    {
     "data": {
      "text/plain": [
       "array([15.  ,  8.25,  1.5 ])"
      ]
     },
     "execution_count": 14,
     "metadata": {},
     "output_type": "execute_result"
    }
   ],
   "source": [
    "# Declarando vetor linha com elementos fracionários igualmente espaçados\n",
    "\n",
    "b = np.arange(15,0,-27/4) # Os argumentos são início, fim (não incluso) e o passo\n",
    "\n",
    "b"
   ]
  },
  {
   "cell_type": "code",
   "execution_count": 15,
   "metadata": {},
   "outputs": [
    {
     "data": {
      "text/plain": [
       "array([ 2.5       ,  3.86363636,  5.22727273,  6.59090909,  7.95454545,\n",
       "        9.31818182, 10.68181818, 12.04545455, 13.40909091, 14.77272727,\n",
       "       16.13636364, 17.5       ])"
      ]
     },
     "execution_count": 15,
     "metadata": {},
     "output_type": "execute_result"
    }
   ],
   "source": [
    "# Gerando um vetor a partir da funçao linspace\n",
    "\n",
    "np.linspace(2.5, 17.5, 12)  # Os argumentos são início, fim e número de elementos do vetor"
   ]
  },
  {
   "cell_type": "code",
   "execution_count": 16,
   "metadata": {
    "scrolled": true
   },
   "outputs": [
    {
     "data": {
      "text/plain": [
       "array([0, 1, 2, 3, 4, 5, 6, 7, 8, 9])"
      ]
     },
     "execution_count": 16,
     "metadata": {},
     "output_type": "execute_result"
    }
   ],
   "source": [
    "# Verificando passo default da criação de vetores \n",
    "\n",
    "# No arange o passo default é 1, e o elemento final não é incluído\n",
    "c = np.arange(0,10)\n",
    "\n",
    "\n",
    "# No linspace não há passo default, \n",
    "# mas há um número default de elementos de 50, \n",
    "#caso ele não seja informado\n",
    "#c = np.linspace(0,10,) \n",
    "\n",
    "c"
   ]
  },
  {
   "cell_type": "code",
   "execution_count": 17,
   "metadata": {},
   "outputs": [
    {
     "data": {
      "text/plain": [
       "array([0, 1, 2, 3, 4, 5])"
      ]
     },
     "execution_count": 17,
     "metadata": {},
     "output_type": "execute_result"
    }
   ],
   "source": [
    "## Calculando resultado de uma função para diferentes valores \n",
    "\n",
    "# Primeiro: definir o vetor k\n",
    "\n",
    "k = np.arange(0,6)\n",
    "k"
   ]
  },
  {
   "cell_type": "code",
   "execution_count": 18,
   "metadata": {},
   "outputs": [
    {
     "data": {
      "text/plain": [
       "array([ 6.12323400e-17+1.j, -1.83697020e-16-1.j,  3.06161700e-16+1.j,\n",
       "       -4.28626380e-16-1.j,  5.51091060e-16+1.j, -2.44991258e-15-1.j])"
      ]
     },
     "execution_count": 18,
     "metadata": {},
     "output_type": "execute_result"
    }
   ],
   "source": [
    "#Segundo: definir a funcao\n",
    "\n",
    "l = np.exp(1j*(np.pi/2 + 2*np.pi*k/2))\n",
    "l"
   ]
  },
  {
   "cell_type": "code",
   "execution_count": 19,
   "metadata": {},
   "outputs": [],
   "source": [
    "#Caso seja interessante saber l para 100 valores de k\n",
    "# é necessario definirmos k novamente e entao chamar a funcao l de novo"
   ]
  },
  {
   "cell_type": "code",
   "execution_count": 20,
   "metadata": {},
   "outputs": [
    {
     "data": {
      "text/plain": [
       "array([ 0.5+8.66025404e-01j, -1. +1.22464680e-16j,  0.5-8.66025404e-01j,\n",
       "        0.5+8.66025404e-01j, -1. +3.67394040e-16j,  0.5-8.66025404e-01j,\n",
       "        0.5+8.66025404e-01j, -1. +6.12323400e-16j,  0.5-8.66025404e-01j,\n",
       "        0.5+8.66025404e-01j, -1. +8.57252759e-16j,  0.5-8.66025404e-01j,\n",
       "        0.5+8.66025404e-01j, -1. +1.10218212e-15j,  0.5-8.66025404e-01j,\n",
       "        0.5+8.66025404e-01j, -1. +4.89982516e-15j,  0.5-8.66025404e-01j,\n",
       "        0.5+8.66025404e-01j, -1. +5.14475452e-15j,  0.5-8.66025404e-01j,\n",
       "        0.5+8.66025404e-01j, -1. +5.38968388e-15j,  0.5-8.66025404e-01j,\n",
       "        0.5+8.66025404e-01j, -1. -1.47081412e-15j,  0.5-8.66025404e-01j,\n",
       "        0.5+8.66025404e-01j, -1. +5.87954260e-15j,  0.5-8.66025404e-01j,\n",
       "        0.5+8.66025404e-01j, -1. -9.80955401e-16j,  0.5-8.66025404e-01j,\n",
       "        0.5+8.66025404e-01j, -1. -7.84145340e-15j,  0.5-8.66025404e-01j,\n",
       "        0.5+8.66025404e-01j, -1. -4.91096681e-16j,  0.5-8.66025404e-01j,\n",
       "        0.5+8.66025404e-01j, -1. -7.35159468e-15j,  0.5-8.66025404e-01j,\n",
       "        0.5+8.66025404e-01j, -1. -1.23796127e-18j,  0.5-8.66025404e-01j,\n",
       "        0.5+8.66025404e-01j, -1. +7.34911876e-15j,  0.5-8.66025404e-01j,\n",
       "        0.5+8.66025404e-01j, -1. +4.88620758e-16j,  0.5-8.66025404e-01j,\n",
       "        0.5+8.66025404e-01j, -1. -6.37187724e-15j,  0.5-8.66025404e-01j,\n",
       "        0.5+8.66025404e-01j, -1. -1.32323752e-14j,  0.5-8.66025404e-01j,\n",
       "        0.5+8.66025404e-01j, -1. -5.88201852e-15j,  0.5-8.66025404e-01j,\n",
       "        0.5+8.66025404e-01j, -1. +1.56791929e-14j,  0.5-8.66025404e-01j,\n",
       "        0.5+8.66025404e-01j, -1. +8.81869492e-15j,  0.5-8.66025404e-01j,\n",
       "        0.5+8.66025404e-01j, -1. +1.95819692e-15j,  0.5-8.66025404e-01j,\n",
       "        0.5+8.66025404e-01j, -1. -4.90230108e-15j,  0.5-8.66025404e-01j,\n",
       "        0.5+8.66025404e-01j, -1. +1.66589104e-14j,  0.5-8.66025404e-01j,\n",
       "        0.5+8.66025404e-01j, -1. +9.79841235e-15j,  0.5-8.66025404e-01j,\n",
       "        0.5+8.66025404e-01j, -1. +2.93791436e-15j,  0.5-8.66025404e-01j,\n",
       "        0.5+8.66025404e-01j, -1. +2.44991258e-14j,  0.5-8.66025404e-01j,\n",
       "        0.5+8.66025404e-01j, -1. -1.07830816e-14j,  0.5-8.66025404e-01j,\n",
       "        0.5+8.66025404e-01j, -1. +1.07781298e-14j,  0.5-8.66025404e-01j,\n",
       "        0.5+8.66025404e-01j, -1. +3.91763180e-15j,  0.5-8.66025404e-01j,\n",
       "        0.5+8.66025404e-01j, -1. -2.94286620e-15j,  0.5-8.66025404e-01j,\n",
       "        0.5+8.66025404e-01j, -1. +1.86183452e-14j,  0.5-8.66025404e-01j,\n",
       "        0.5+8.66025404e-01j])"
      ]
     },
     "execution_count": 20,
     "metadata": {},
     "output_type": "execute_result"
    }
   ],
   "source": [
    "k = np.arange(0,100)\n",
    "l = np.exp(1j*(np.pi/3 + 2*np.pi*k/3))\n",
    "l"
   ]
  },
  {
   "cell_type": "code",
   "execution_count": 21,
   "metadata": {},
   "outputs": [
    {
     "data": {
      "text/plain": [
       "(-1+6.123233995736766e-16j)"
      ]
     },
     "execution_count": 21,
     "metadata": {},
     "output_type": "execute_result"
    }
   ],
   "source": [
    "# Para acessar uma solucao em particular\n",
    "# índices vão de 0 a 99\n",
    "l[7] "
   ]
  },
  {
   "cell_type": "code",
   "execution_count": 22,
   "metadata": {},
   "outputs": [
    {
     "data": {
      "text/plain": [
       "array([ 0.5-8.66025404e-01j,  0.5+8.66025404e-01j, -1. +1.95819692e-15j,\n",
       "        0.5-8.66025404e-01j,  0.5+8.66025404e-01j])"
      ]
     },
     "execution_count": 22,
     "metadata": {},
     "output_type": "execute_result"
    }
   ],
   "source": [
    "# Para acessar mais do que um valor simultaneamente\n",
    "l[65:70]"
   ]
  },
  {
   "cell_type": "markdown",
   "metadata": {},
   "source": [
    "# PARTE III - GRÁFICOS"
   ]
  },
  {
   "cell_type": "code",
   "execution_count": 23,
   "metadata": {},
   "outputs": [],
   "source": [
    "import matplotlib.pyplot as plt # Biblioteca para plot"
   ]
  },
  {
   "cell_type": "code",
   "execution_count": 24,
   "metadata": {},
   "outputs": [
    {
     "data": {
      "text/plain": [
       "array([0.   , 0.005, 0.01 , ..., 4.99 , 4.995, 5.   ])"
      ]
     },
     "execution_count": 24,
     "metadata": {},
     "output_type": "execute_result"
    }
   ],
   "source": [
    "# Primeiro precisamos definir uma função para plota-la\n",
    "# Para tal, devemos definir o intervalo\n",
    "# Neste caso o termo independente sera t\n",
    "\n",
    "#t = np.arange(0,5,0.005)\n",
    "t = np.linspace(0,5,1001)\n",
    "\n",
    "t"
   ]
  },
  {
   "cell_type": "code",
   "execution_count": 25,
   "metadata": {},
   "outputs": [],
   "source": [
    "# Definir a funcao\n",
    "f = np.sin(2*np.pi*t+np.pi/3)"
   ]
  },
  {
   "cell_type": "code",
   "execution_count": 26,
   "metadata": {},
   "outputs": [
    {
     "data": {
      "image/png": "[encoded data removed]",
      "text/plain": [
       "<Figure size 432x288 with 1 Axes>"
      ]
     },
     "metadata": {
      "needs_background": "light"
     },
     "output_type": "display_data"
    }
   ],
   "source": [
    "# Funcao para plotar\n",
    "plt.plot(t,f)\n",
    "\n",
    "plt.show()"
   ]
  },
  {
   "cell_type": "code",
   "execution_count": 27,
   "metadata": {},
   "outputs": [
    {
     "data": {
      "image/png": "[encoded data removed]",
      "text/plain": [
       "<Figure size 432x288 with 1 Axes>"
      ]
     },
     "metadata": {
      "needs_background": "light"
     },
     "output_type": "display_data"
    }
   ],
   "source": [
    "# Os rótulos do gráfico podem ser adicionados usando comandos:\n",
    "plt.plot(t,f)\n",
    "\n",
    "plt.figure(1)\n",
    "plt.xlabel('t')\n",
    "plt.ylabel('f')\n",
    "plt.title('Grafico')\n",
    "plt.grid()\n",
    "\n",
    "plt.show()"
   ]
  },
  {
   "cell_type": "code",
   "execution_count": 28,
   "metadata": {},
   "outputs": [
    {
     "data": {
      "text/plain": [
       "array([8.66025404e-01, 8.68182553e-01, 8.69239477e-01, ...,\n",
       "       2.62552128e-07, 2.63913304e-07, 2.64919181e-07])"
      ]
     },
     "execution_count": 28,
     "metadata": {},
     "output_type": "execute_result"
    }
   ],
   "source": [
    "# Definindo uma segunda funcao\n",
    "g = np.exp(-3*t)\n",
    "\n",
    "# Para multiplicarmos g(t) por h(t) é necessario multiplicar\n",
    "# elemento por elemento\n",
    "\n",
    "h = f*g\n",
    "h"
   ]
  },
  {
   "cell_type": "code",
   "execution_count": 29,
   "metadata": {},
   "outputs": [
    {
     "data": {
      "image/png": "[encoded data removed]",
      "text/plain": [
       "<Figure size 432x288 with 1 Axes>"
      ]
     },
     "metadata": {
      "needs_background": "light"
     },
     "output_type": "display_data"
    }
   ],
   "source": [
    "plt.figure(2)\n",
    "plt.plot(t,f,'-k', label = 'f(t)') \n",
    "plt.plot(t,h,':k', label = 'h(t)')\n",
    "plt.xlabel('t')\n",
    "plt.ylabel('Amplitude')\n",
    "plt.legend()\n",
    "plt.grid() \n",
    "\n",
    "plt.show()"
   ]
  },
  {
   "cell_type": "markdown",
   "metadata": {},
   "source": [
    "# PARTE IV - OPERAÇÕES BÁSICAS COM MATRIZES"
   ]
  },
  {
   "cell_type": "code",
   "execution_count": 30,
   "metadata": {},
   "outputs": [
    {
     "data": {
      "text/plain": [
       "array([[1., 0., 0., 0.],\n",
       "       [0., 1., 0., 0.],\n",
       "       [0., 0., 1., 0.],\n",
       "       [0., 0., 0., 1.]])"
      ]
     },
     "execution_count": 30,
     "metadata": {},
     "output_type": "execute_result"
    }
   ],
   "source": [
    "# Para criar uma matriz identidade\n",
    "np.eye(4)"
   ]
  },
  {
   "cell_type": "code",
   "execution_count": 31,
   "metadata": {},
   "outputs": [
    {
     "data": {
      "text/plain": [
       "array([[1., 0., 0., 0., 0.],\n",
       "       [0., 1., 0., 0., 0.],\n",
       "       [0., 0., 1., 0., 0.],\n",
       "       [0., 0., 0., 1., 0.],\n",
       "       [0., 0., 0., 0., 1.],\n",
       "       [0., 0., 0., 0., 0.]])"
      ]
     },
     "execution_count": 31,
     "metadata": {},
     "output_type": "execute_result"
    }
   ],
   "source": [
    "np.eye(6,5)"
   ]
  },
  {
   "cell_type": "code",
   "execution_count": 32,
   "metadata": {},
   "outputs": [
    {
     "data": {
      "text/plain": [
       "array([[0., 0., 0., 0., 0., 0.],\n",
       "       [0., 0., 0., 0., 0., 0.],\n",
       "       [0., 0., 0., 0., 0., 0.],\n",
       "       [0., 0., 0., 0., 0., 0.]])"
      ]
     },
     "execution_count": 32,
     "metadata": {},
     "output_type": "execute_result"
    }
   ],
   "source": [
    "# Para criar uma matriz de zeros\n",
    "np.zeros((4,6))"
   ]
  },
  {
   "cell_type": "code",
   "execution_count": 33,
   "metadata": {},
   "outputs": [
    {
     "data": {
      "text/plain": [
       "array([[1., 1., 1., 1.],\n",
       "       [1., 1., 1., 1.],\n",
       "       [1., 1., 1., 1.],\n",
       "       [1., 1., 1., 1.],\n",
       "       [1., 1., 1., 1.],\n",
       "       [1., 1., 1., 1.]])"
      ]
     },
     "execution_count": 33,
     "metadata": {},
     "output_type": "execute_result"
    }
   ],
   "source": [
    "# Para criar uma matriz de 1s\n",
    "np.ones((6,4))"
   ]
  },
  {
   "cell_type": "code",
   "execution_count": 34,
   "metadata": {},
   "outputs": [
    {
     "data": {
      "text/plain": [
       "array([[3, 0, 0, 0],\n",
       "       [0, 5, 0, 0],\n",
       "       [0, 0, 7, 0],\n",
       "       [0, 0, 0, 9]])"
      ]
     },
     "execution_count": 34,
     "metadata": {},
     "output_type": "execute_result"
    }
   ],
   "source": [
    "# Criar uma matriz a partir de um vetor\n",
    "x = np.array([3, 5, 7, 9])\n",
    "np.diag(x)"
   ]
  },
  {
   "cell_type": "code",
   "execution_count": 35,
   "metadata": {},
   "outputs": [
    {
     "data": {
      "text/plain": [
       "array([[ 3,  5,  7],\n",
       "       [ 3,  7,  9],\n",
       "       [ 3,  9, 11],\n",
       "       [ 3, 11, 13]])"
      ]
     },
     "execution_count": 35,
     "metadata": {},
     "output_type": "execute_result"
    }
   ],
   "source": [
    "# Declarando uma matriz\n",
    "a = np.array([[3, 5, 7], [3, 7, 9], [3, 9, 11], [3, 11, 13]])\n",
    "a"
   ]
  },
  {
   "cell_type": "code",
   "execution_count": 36,
   "metadata": {},
   "outputs": [
    {
     "data": {
      "text/plain": [
       "array([[ 3,  5,  7,  1],\n",
       "       [ 3,  7,  9,  2],\n",
       "       [ 3,  9, 11,  3],\n",
       "       [ 3, 11, 13,  4]])"
      ]
     },
     "execution_count": 36,
     "metadata": {},
     "output_type": "execute_result"
    }
   ],
   "source": [
    "# Concatenando duas matrizes\n",
    "b = np.array([[1], [2], [3], [4]])\n",
    "c = np.concatenate((a,b),axis=1) # axis = 1 concatena a coluna\n",
    "\n",
    "c"
   ]
  },
  {
   "cell_type": "code",
   "execution_count": 37,
   "metadata": {},
   "outputs": [
    {
     "data": {
      "text/plain": [
       "4"
      ]
     },
     "execution_count": 37,
     "metadata": {},
     "output_type": "execute_result"
    }
   ],
   "source": [
    "# Acessar um valor especifico da matriz\n",
    "c[3,3]"
   ]
  },
  {
   "cell_type": "code",
   "execution_count": 38,
   "metadata": {},
   "outputs": [
    {
     "data": {
      "text/plain": [
       "array([ 3,  9, 11,  3])"
      ]
     },
     "execution_count": 38,
     "metadata": {},
     "output_type": "execute_result"
    }
   ],
   "source": [
    "c[2,:]"
   ]
  },
  {
   "cell_type": "code",
   "execution_count": 39,
   "metadata": {},
   "outputs": [
    {
     "data": {
      "text/plain": [
       "array([1, 2, 3, 4])"
      ]
     },
     "execution_count": 39,
     "metadata": {},
     "output_type": "execute_result"
    }
   ],
   "source": [
    "c[:,3]"
   ]
  },
  {
   "cell_type": "markdown",
   "metadata": {},
   "source": [
    "# PARTE V - SOLUÇÃO DE SISTEMA LINEAR"
   ]
  },
  {
   "cell_type": "code",
   "execution_count": 40,
   "metadata": {},
   "outputs": [
    {
     "data": {
      "text/plain": [
       "array([[ 2.        , -3.        ,  4.        ],\n",
       "       [-2.        ,  2.        , -2.64575131],\n",
       "       [ 4.        , -2.82842712,  2.        ]])"
      ]
     },
     "execution_count": 40,
     "metadata": {},
     "output_type": "execute_result"
    }
   ],
   "source": [
    "# Declarando as matrizes do sistema\n",
    "\n",
    "A = np.array([[2, -3, 4], [-np.sqrt(4), 2, -np.sqrt(7)], [4, -np.sqrt(8), 2]])\n",
    "A"
   ]
  },
  {
   "cell_type": "code",
   "execution_count": 64,
   "metadata": {},
   "outputs": [
    {
     "data": {
      "text/plain": [
       "array([[3.        ],\n",
       "       [6.28318531],\n",
       "       [7.3890561 ]])"
      ]
     },
     "execution_count": 64,
     "metadata": {},
     "output_type": "execute_result"
    }
   ],
   "source": [
    "Y = np.array([[3], [2*np.pi], [np.exp(2)]])\n",
    "Y"
   ]
  },
  {
   "cell_type": "code",
   "execution_count": 43,
   "metadata": {},
   "outputs": [
    {
     "data": {
      "text/plain": [
       "array([[ -3.06467669,  -4.6750867 ,  -0.055205  ],\n",
       "       [-12.13038982, -22.1121923 ,  -4.99090124],\n",
       "       [ -5.0776055 , -13.74562028,  -4.33400739]])"
      ]
     },
     "execution_count": 43,
     "metadata": {},
     "output_type": "execute_result"
    }
   ],
   "source": [
    "# Solucao do sistema\n",
    "from numpy.linalg import inv\n",
    "\n",
    "X = inv(A)*Y\n",
    "X"
   ]
  },
  {
   "cell_type": "code",
   "execution_count": 45,
   "metadata": {},
   "outputs": [
    {
     "data": {
      "text/plain": [
       "3.4098031836488443"
      ]
     },
     "execution_count": 45,
     "metadata": {},
     "output_type": "execute_result"
    }
   ],
   "source": [
    "# Demais operacoes\n",
    "\n",
    "from numpy.linalg import det\n",
    "\n",
    "det(A) #Determinante de A"
   ]
  },
  {
   "cell_type": "code",
   "execution_count": 46,
   "metadata": {},
   "outputs": [
    {
     "data": {
      "text/plain": [
       "array([[-1.0215589 , -1.55836223, -0.01840167],\n",
       "       [-1.9306115 , -3.51926471, -0.7943266 ],\n",
       "       [-0.68717918, -1.86026741, -0.58654412]])"
      ]
     },
     "execution_count": 46,
     "metadata": {},
     "output_type": "execute_result"
    }
   ],
   "source": [
    "inv(A) #Inversa de A"
   ]
  },
  {
   "cell_type": "code",
   "execution_count": 55,
   "metadata": {},
   "outputs": [
    {
     "data": {
      "text/plain": [
       "array([ 4.        , -3.82842712,  3.35424869])"
      ]
     },
     "execution_count": 55,
     "metadata": {},
     "output_type": "execute_result"
    }
   ],
   "source": [
    "A.sum(axis = 0)      # Soma os valores das colunas de A"
   ]
  },
  {
   "cell_type": "code",
   "execution_count": 56,
   "metadata": {},
   "outputs": [
    {
     "data": {
      "text/plain": [
       "array([ 3.        , -2.64575131,  3.17157288])"
      ]
     },
     "execution_count": 56,
     "metadata": {},
     "output_type": "execute_result"
    }
   ],
   "source": [
    "A.sum(axis = 1)      # Soma os valores das linhas de A"
   ]
  },
  {
   "cell_type": "code",
   "execution_count": 62,
   "metadata": {},
   "outputs": [
    {
     "data": {
      "text/plain": [
       "array([[ 2.        , -2.        ,  4.        ],\n",
       "       [-3.        ,  2.        , -2.82842712],\n",
       "       [ 4.        , -2.64575131,  2.        ]])"
      ]
     },
     "execution_count": 62,
     "metadata": {},
     "output_type": "execute_result"
    }
   ],
   "source": [
    "A.transpose()  #transposta de A"
   ]
  },
  {
   "cell_type": "code",
   "execution_count": 60,
   "metadata": {},
   "outputs": [
    {
     "data": {
      "text/plain": [
       "(3, 3)"
      ]
     },
     "execution_count": 60,
     "metadata": {},
     "output_type": "execute_result"
    }
   ],
   "source": [
    "A.shape # Número de linhas e de colunas de A"
   ]
  }
 ],
 "metadata": {
  "kernelspec": {
   "display_name": "Python 3",
   "language": "python",
   "name": "python3"
  },
  "language_info": {
   "codemirror_mode": {
    "name": "ipython",
    "version": 3
   },
   "file_extension": ".py",
   "mimetype": "text/x-python",
   "name": "python",
   "nbconvert_exporter": "python",
   "pygments_lexer": "ipython3",
   "version": "3.7.3"
  }
 },
 "nbformat": 4,
 "nbformat_minor": 2
}
